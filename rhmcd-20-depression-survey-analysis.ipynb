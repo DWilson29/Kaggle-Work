{
 "cells": [
  {
   "cell_type": "code",
   "execution_count": 1,
   "id": "68a943c3",
   "metadata": {
    "_cell_guid": "b1076dfc-b9ad-4769-8c92-a6c4dae69d19",
    "_uuid": "8f2839f25d086af736a60e9eeb907d3b93b6e0e5",
    "execution": {
     "iopub.execute_input": "2024-01-19T05:12:46.967875Z",
     "iopub.status.busy": "2024-01-19T05:12:46.967364Z",
     "iopub.status.idle": "2024-01-19T05:13:05.043774Z",
     "shell.execute_reply": "2024-01-19T05:13:05.042378Z"
    },
    "papermill": {
     "duration": 18.088524,
     "end_time": "2024-01-19T05:13:05.047187",
     "exception": false,
     "start_time": "2024-01-19T05:12:46.958663",
     "status": "completed"
    },
    "tags": []
   },
   "outputs": [
    {
     "name": "stdout",
     "output_type": "stream",
     "text": [
      "train_df.shape = (799, 13)\n"
     ]
    }
   ],
   "source": [
    "import numpy as np # linear algebra\n",
    "import pandas as pd # data processing, CSV file I/O (e.g. pd.read_csv)\n",
    "\n",
    "import tensorflow as tf\n",
    "import tensorflow_decision_forests as tfdf\n",
    "\n",
    "import matplotlib.pyplot as plt\n",
    "import seaborn as sns\n",
    "sns.set(font_scale=1)\n",
    "plt.style.use('ggplot')\n",
    "\n",
    "\n",
    "train_df = pd.read_csv('/kaggle/input/rhmcd-20-depression/mental_health_finaldata_1.csv')\n",
    "\n",
    "print(f'train_df.shape = {train_df.shape}')\n"
   ]
  },
  {
   "cell_type": "code",
   "execution_count": 2,
   "id": "1e1d073f",
   "metadata": {
    "execution": {
     "iopub.execute_input": "2024-01-19T05:13:05.062434Z",
     "iopub.status.busy": "2024-01-19T05:13:05.061244Z",
     "iopub.status.idle": "2024-01-19T05:13:05.098841Z",
     "shell.execute_reply": "2024-01-19T05:13:05.097523Z"
    },
    "papermill": {
     "duration": 0.047816,
     "end_time": "2024-01-19T05:13:05.101481",
     "exception": false,
     "start_time": "2024-01-19T05:13:05.053665",
     "status": "completed"
    },
    "tags": []
   },
   "outputs": [
    {
     "data": {
      "text/html": [
       "<div>\n",
       "<style scoped>\n",
       "    .dataframe tbody tr th:only-of-type {\n",
       "        vertical-align: middle;\n",
       "    }\n",
       "\n",
       "    .dataframe tbody tr th {\n",
       "        vertical-align: top;\n",
       "    }\n",
       "\n",
       "    .dataframe thead th {\n",
       "        text-align: right;\n",
       "    }\n",
       "</style>\n",
       "<table border=\"1\" class=\"dataframe\">\n",
       "  <thead>\n",
       "    <tr style=\"text-align: right;\">\n",
       "      <th></th>\n",
       "      <th>Age</th>\n",
       "      <th>Sex</th>\n",
       "      <th>Occupation</th>\n",
       "      <th>Days Indoors</th>\n",
       "      <th>Growing Stress</th>\n",
       "      <th>Quarantine Frustrations</th>\n",
       "      <th>Changes Habits</th>\n",
       "      <th>Mental Health History</th>\n",
       "      <th>Weight Change</th>\n",
       "      <th>Mood Swings</th>\n",
       "      <th>Coping Struggles</th>\n",
       "      <th>Work Interest</th>\n",
       "      <th>Social Weakness</th>\n",
       "    </tr>\n",
       "  </thead>\n",
       "  <tbody>\n",
       "    <tr>\n",
       "      <th>0</th>\n",
       "      <td>20-25</td>\n",
       "      <td>Female</td>\n",
       "      <td>Corporate</td>\n",
       "      <td>1-14 days</td>\n",
       "      <td>Yes</td>\n",
       "      <td>Yes</td>\n",
       "      <td>No</td>\n",
       "      <td>Yes</td>\n",
       "      <td>Yes</td>\n",
       "      <td>Medium</td>\n",
       "      <td>No</td>\n",
       "      <td>No</td>\n",
       "      <td>Yes</td>\n",
       "    </tr>\n",
       "    <tr>\n",
       "      <th>1</th>\n",
       "      <td>30-Above</td>\n",
       "      <td>Male</td>\n",
       "      <td>Others</td>\n",
       "      <td>31-60 days</td>\n",
       "      <td>Yes</td>\n",
       "      <td>Yes</td>\n",
       "      <td>Maybe</td>\n",
       "      <td>No</td>\n",
       "      <td>No</td>\n",
       "      <td>High</td>\n",
       "      <td>No</td>\n",
       "      <td>No</td>\n",
       "      <td>Yes</td>\n",
       "    </tr>\n",
       "    <tr>\n",
       "      <th>2</th>\n",
       "      <td>30-Above</td>\n",
       "      <td>Female</td>\n",
       "      <td>Student</td>\n",
       "      <td>Go out Every day</td>\n",
       "      <td>No</td>\n",
       "      <td>No</td>\n",
       "      <td>Yes</td>\n",
       "      <td>No</td>\n",
       "      <td>No</td>\n",
       "      <td>Medium</td>\n",
       "      <td>Yes</td>\n",
       "      <td>Maybe</td>\n",
       "      <td>No</td>\n",
       "    </tr>\n",
       "    <tr>\n",
       "      <th>3</th>\n",
       "      <td>25-30</td>\n",
       "      <td>Male</td>\n",
       "      <td>Others</td>\n",
       "      <td>1-14 days</td>\n",
       "      <td>Yes</td>\n",
       "      <td>No</td>\n",
       "      <td>Maybe</td>\n",
       "      <td>No</td>\n",
       "      <td>Maybe</td>\n",
       "      <td>Medium</td>\n",
       "      <td>No</td>\n",
       "      <td>Maybe</td>\n",
       "      <td>Yes</td>\n",
       "    </tr>\n",
       "    <tr>\n",
       "      <th>4</th>\n",
       "      <td>16-20</td>\n",
       "      <td>Female</td>\n",
       "      <td>Student</td>\n",
       "      <td>More than 2 months</td>\n",
       "      <td>Yes</td>\n",
       "      <td>Yes</td>\n",
       "      <td>Yes</td>\n",
       "      <td>No</td>\n",
       "      <td>Yes</td>\n",
       "      <td>Medium</td>\n",
       "      <td>Yes</td>\n",
       "      <td>Maybe</td>\n",
       "      <td>No</td>\n",
       "    </tr>\n",
       "    <tr>\n",
       "      <th>...</th>\n",
       "      <td>...</td>\n",
       "      <td>...</td>\n",
       "      <td>...</td>\n",
       "      <td>...</td>\n",
       "      <td>...</td>\n",
       "      <td>...</td>\n",
       "      <td>...</td>\n",
       "      <td>...</td>\n",
       "      <td>...</td>\n",
       "      <td>...</td>\n",
       "      <td>...</td>\n",
       "      <td>...</td>\n",
       "      <td>...</td>\n",
       "    </tr>\n",
       "    <tr>\n",
       "      <th>794</th>\n",
       "      <td>30-Above</td>\n",
       "      <td>Female</td>\n",
       "      <td>Housewife</td>\n",
       "      <td>Go out Every day</td>\n",
       "      <td>Yes</td>\n",
       "      <td>Maybe</td>\n",
       "      <td>No</td>\n",
       "      <td>No</td>\n",
       "      <td>No</td>\n",
       "      <td>Low</td>\n",
       "      <td>No</td>\n",
       "      <td>No</td>\n",
       "      <td>Yes</td>\n",
       "    </tr>\n",
       "    <tr>\n",
       "      <th>795</th>\n",
       "      <td>25-30</td>\n",
       "      <td>Male</td>\n",
       "      <td>Student</td>\n",
       "      <td>Go out Every day</td>\n",
       "      <td>Maybe</td>\n",
       "      <td>Yes</td>\n",
       "      <td>Maybe</td>\n",
       "      <td>No</td>\n",
       "      <td>Maybe</td>\n",
       "      <td>High</td>\n",
       "      <td>Yes</td>\n",
       "      <td>Maybe</td>\n",
       "      <td>No</td>\n",
       "    </tr>\n",
       "    <tr>\n",
       "      <th>796</th>\n",
       "      <td>20-25</td>\n",
       "      <td>Male</td>\n",
       "      <td>Others</td>\n",
       "      <td>Go out Every day</td>\n",
       "      <td>Yes</td>\n",
       "      <td>No</td>\n",
       "      <td>Yes</td>\n",
       "      <td>No</td>\n",
       "      <td>Maybe</td>\n",
       "      <td>Medium</td>\n",
       "      <td>Yes</td>\n",
       "      <td>No</td>\n",
       "      <td>Maybe</td>\n",
       "    </tr>\n",
       "    <tr>\n",
       "      <th>797</th>\n",
       "      <td>30-Above</td>\n",
       "      <td>Female</td>\n",
       "      <td>Housewife</td>\n",
       "      <td>1-14 days</td>\n",
       "      <td>Yes</td>\n",
       "      <td>Yes</td>\n",
       "      <td>No</td>\n",
       "      <td>Yes</td>\n",
       "      <td>Maybe</td>\n",
       "      <td>High</td>\n",
       "      <td>No</td>\n",
       "      <td>Yes</td>\n",
       "      <td>Yes</td>\n",
       "    </tr>\n",
       "    <tr>\n",
       "      <th>798</th>\n",
       "      <td>30-Above</td>\n",
       "      <td>Male</td>\n",
       "      <td>Corporate</td>\n",
       "      <td>15-30 days</td>\n",
       "      <td>No</td>\n",
       "      <td>Maybe</td>\n",
       "      <td>No</td>\n",
       "      <td>Maybe</td>\n",
       "      <td>Yes</td>\n",
       "      <td>Medium</td>\n",
       "      <td>No</td>\n",
       "      <td>Maybe</td>\n",
       "      <td>No</td>\n",
       "    </tr>\n",
       "  </tbody>\n",
       "</table>\n",
       "<p>799 rows × 13 columns</p>\n",
       "</div>"
      ],
      "text/plain": [
       "          Age     Sex Occupation        Days Indoors Growing Stress  \\\n",
       "0       20-25  Female  Corporate           1-14 days            Yes   \n",
       "1    30-Above    Male     Others          31-60 days            Yes   \n",
       "2    30-Above  Female    Student    Go out Every day             No   \n",
       "3       25-30    Male     Others           1-14 days            Yes   \n",
       "4       16-20  Female    Student  More than 2 months            Yes   \n",
       "..        ...     ...        ...                 ...            ...   \n",
       "794  30-Above  Female  Housewife    Go out Every day            Yes   \n",
       "795     25-30    Male    Student    Go out Every day          Maybe   \n",
       "796     20-25    Male     Others    Go out Every day            Yes   \n",
       "797  30-Above  Female  Housewife           1-14 days            Yes   \n",
       "798  30-Above    Male  Corporate          15-30 days             No   \n",
       "\n",
       "    Quarantine Frustrations Changes Habits Mental Health History  \\\n",
       "0                       Yes             No                   Yes   \n",
       "1                       Yes          Maybe                    No   \n",
       "2                        No            Yes                    No   \n",
       "3                        No          Maybe                    No   \n",
       "4                       Yes            Yes                    No   \n",
       "..                      ...            ...                   ...   \n",
       "794                   Maybe             No                    No   \n",
       "795                     Yes          Maybe                    No   \n",
       "796                      No            Yes                    No   \n",
       "797                     Yes             No                   Yes   \n",
       "798                   Maybe             No                 Maybe   \n",
       "\n",
       "    Weight Change Mood Swings Coping Struggles Work Interest Social Weakness  \n",
       "0             Yes      Medium               No            No             Yes  \n",
       "1              No        High               No            No             Yes  \n",
       "2              No      Medium              Yes         Maybe              No  \n",
       "3           Maybe      Medium               No         Maybe             Yes  \n",
       "4             Yes      Medium              Yes         Maybe              No  \n",
       "..            ...         ...              ...           ...             ...  \n",
       "794            No         Low               No            No             Yes  \n",
       "795         Maybe        High              Yes         Maybe              No  \n",
       "796         Maybe      Medium              Yes            No           Maybe  \n",
       "797         Maybe        High               No           Yes             Yes  \n",
       "798           Yes      Medium               No         Maybe              No  \n",
       "\n",
       "[799 rows x 13 columns]"
      ]
     },
     "execution_count": 2,
     "metadata": {},
     "output_type": "execute_result"
    }
   ],
   "source": [
    "train_df"
   ]
  },
  {
   "cell_type": "code",
   "execution_count": 3,
   "id": "23b95e79",
   "metadata": {
    "execution": {
     "iopub.execute_input": "2024-01-19T05:13:05.116652Z",
     "iopub.status.busy": "2024-01-19T05:13:05.116167Z",
     "iopub.status.idle": "2024-01-19T05:13:05.163739Z",
     "shell.execute_reply": "2024-01-19T05:13:05.162451Z"
    },
    "papermill": {
     "duration": 0.05829,
     "end_time": "2024-01-19T05:13:05.166376",
     "exception": false,
     "start_time": "2024-01-19T05:13:05.108086",
     "status": "completed"
    },
    "tags": []
   },
   "outputs": [
    {
     "data": {
      "text/html": [
       "<div>\n",
       "<style scoped>\n",
       "    .dataframe tbody tr th:only-of-type {\n",
       "        vertical-align: middle;\n",
       "    }\n",
       "\n",
       "    .dataframe tbody tr th {\n",
       "        vertical-align: top;\n",
       "    }\n",
       "\n",
       "    .dataframe thead th {\n",
       "        text-align: right;\n",
       "    }\n",
       "</style>\n",
       "<table border=\"1\" class=\"dataframe\">\n",
       "  <thead>\n",
       "    <tr style=\"text-align: right;\">\n",
       "      <th></th>\n",
       "      <th>Age</th>\n",
       "      <th>Sex</th>\n",
       "      <th>Occupation</th>\n",
       "      <th>Days Indoors</th>\n",
       "      <th>Growing Stress</th>\n",
       "      <th>Quarantine Frustrations</th>\n",
       "      <th>Changes Habits</th>\n",
       "      <th>Mental Health History</th>\n",
       "      <th>Weight Change</th>\n",
       "      <th>Mood Swings</th>\n",
       "      <th>Coping Struggles</th>\n",
       "      <th>Work Interest</th>\n",
       "      <th>Social Weakness</th>\n",
       "    </tr>\n",
       "  </thead>\n",
       "  <tbody>\n",
       "    <tr>\n",
       "      <th>count</th>\n",
       "      <td>799</td>\n",
       "      <td>799</td>\n",
       "      <td>799</td>\n",
       "      <td>799</td>\n",
       "      <td>799</td>\n",
       "      <td>799</td>\n",
       "      <td>799</td>\n",
       "      <td>799</td>\n",
       "      <td>799</td>\n",
       "      <td>799</td>\n",
       "      <td>799</td>\n",
       "      <td>799</td>\n",
       "      <td>799</td>\n",
       "    </tr>\n",
       "    <tr>\n",
       "      <th>unique</th>\n",
       "      <td>4</td>\n",
       "      <td>2</td>\n",
       "      <td>5</td>\n",
       "      <td>5</td>\n",
       "      <td>3</td>\n",
       "      <td>3</td>\n",
       "      <td>3</td>\n",
       "      <td>3</td>\n",
       "      <td>3</td>\n",
       "      <td>3</td>\n",
       "      <td>2</td>\n",
       "      <td>3</td>\n",
       "      <td>3</td>\n",
       "    </tr>\n",
       "    <tr>\n",
       "      <th>top</th>\n",
       "      <td>30-Above</td>\n",
       "      <td>Female</td>\n",
       "      <td>Housewife</td>\n",
       "      <td>31-60 days</td>\n",
       "      <td>Yes</td>\n",
       "      <td>Yes</td>\n",
       "      <td>Yes</td>\n",
       "      <td>Maybe</td>\n",
       "      <td>Maybe</td>\n",
       "      <td>Low</td>\n",
       "      <td>No</td>\n",
       "      <td>No</td>\n",
       "      <td>Maybe</td>\n",
       "    </tr>\n",
       "    <tr>\n",
       "      <th>freq</th>\n",
       "      <td>217</td>\n",
       "      <td>425</td>\n",
       "      <td>182</td>\n",
       "      <td>168</td>\n",
       "      <td>292</td>\n",
       "      <td>298</td>\n",
       "      <td>302</td>\n",
       "      <td>276</td>\n",
       "      <td>271</td>\n",
       "      <td>271</td>\n",
       "      <td>401</td>\n",
       "      <td>285</td>\n",
       "      <td>273</td>\n",
       "    </tr>\n",
       "  </tbody>\n",
       "</table>\n",
       "</div>"
      ],
      "text/plain": [
       "             Age     Sex Occupation Days Indoors Growing Stress  \\\n",
       "count        799     799        799          799            799   \n",
       "unique         4       2          5            5              3   \n",
       "top     30-Above  Female  Housewife   31-60 days            Yes   \n",
       "freq         217     425        182          168            292   \n",
       "\n",
       "       Quarantine Frustrations Changes Habits Mental Health History  \\\n",
       "count                      799            799                   799   \n",
       "unique                       3              3                     3   \n",
       "top                        Yes            Yes                 Maybe   \n",
       "freq                       298            302                   276   \n",
       "\n",
       "       Weight Change Mood Swings Coping Struggles Work Interest  \\\n",
       "count            799         799              799           799   \n",
       "unique             3           3                2             3   \n",
       "top            Maybe         Low               No            No   \n",
       "freq             271         271              401           285   \n",
       "\n",
       "       Social Weakness  \n",
       "count              799  \n",
       "unique               3  \n",
       "top              Maybe  \n",
       "freq               273  "
      ]
     },
     "execution_count": 3,
     "metadata": {},
     "output_type": "execute_result"
    }
   ],
   "source": [
    "train_df.describe()"
   ]
  },
  {
   "cell_type": "code",
   "execution_count": 4,
   "id": "19aefc7f",
   "metadata": {
    "execution": {
     "iopub.execute_input": "2024-01-19T05:13:05.182315Z",
     "iopub.status.busy": "2024-01-19T05:13:05.181310Z",
     "iopub.status.idle": "2024-01-19T05:13:05.454407Z",
     "shell.execute_reply": "2024-01-19T05:13:05.453044Z"
    },
    "papermill": {
     "duration": 0.284059,
     "end_time": "2024-01-19T05:13:05.457244",
     "exception": false,
     "start_time": "2024-01-19T05:13:05.173185",
     "status": "completed"
    },
    "tags": []
   },
   "outputs": [
    {
     "data": {
      "text/plain": [
       "<BarContainer object of 2 artists>"
      ]
     },
     "execution_count": 4,
     "metadata": {},
     "output_type": "execute_result"
    },
    {
     "data": {
      "image/png": "[encoded data removed]",
      "text/plain": [
       "<Figure size 640x480 with 1 Axes>"
      ]
     },
     "metadata": {},
     "output_type": "display_data"
    }
   ],
   "source": [
    "plt.bar(train_df[\"Sex\"].unique(), train_df[\"Sex\"].value_counts())\n"
   ]
  },
  {
   "cell_type": "code",
   "execution_count": 5,
   "id": "79db2992",
   "metadata": {
    "execution": {
     "iopub.execute_input": "2024-01-19T05:13:05.473639Z",
     "iopub.status.busy": "2024-01-19T05:13:05.473137Z",
     "iopub.status.idle": "2024-01-19T05:13:05.730613Z",
     "shell.execute_reply": "2024-01-19T05:13:05.729349Z"
    },
    "papermill": {
     "duration": 0.269119,
     "end_time": "2024-01-19T05:13:05.733503",
     "exception": false,
     "start_time": "2024-01-19T05:13:05.464384",
     "status": "completed"
    },
    "tags": []
   },
   "outputs": [
    {
     "data": {
      "text/plain": [
       "<BarContainer object of 4 artists>"
      ]
     },
     "execution_count": 5,
     "metadata": {},
     "output_type": "execute_result"
    },
    {
     "data": {
      "image/png": "[encoded data removed]",
      "text/plain": [
       "<Figure size 640x480 with 1 Axes>"
      ]
     },
     "metadata": {},
     "output_type": "display_data"
    }
   ],
   "source": [
    "plt.bar(train_df[\"Age\"].unique(), train_df[\"Age\"].value_counts())\n"
   ]
  },
  {
   "cell_type": "code",
   "execution_count": 6,
   "id": "444f110c",
   "metadata": {
    "execution": {
     "iopub.execute_input": "2024-01-19T05:13:05.752315Z",
     "iopub.status.busy": "2024-01-19T05:13:05.751797Z",
     "iopub.status.idle": "2024-01-19T05:13:06.052232Z",
     "shell.execute_reply": "2024-01-19T05:13:06.051188Z"
    },
    "papermill": {
     "duration": 0.314095,
     "end_time": "2024-01-19T05:13:06.055120",
     "exception": false,
     "start_time": "2024-01-19T05:13:05.741025",
     "status": "completed"
    },
    "tags": []
   },
   "outputs": [
    {
     "data": {
      "text/plain": [
       "<BarContainer object of 5 artists>"
      ]
     },
     "execution_count": 6,
     "metadata": {},
     "output_type": "execute_result"
    },
    {
     "data": {
      "image/png": "[encoded data removed]",
      "text/plain": [
       "<Figure size 640x480 with 1 Axes>"
      ]
     },
     "metadata": {},
     "output_type": "display_data"
    }
   ],
   "source": [
    "plt.bar(train_df[\"Occupation\"].unique(), train_df[\"Occupation\"].value_counts())\n"
   ]
  },
  {
   "cell_type": "code",
   "execution_count": 7,
   "id": "1f4214c4",
   "metadata": {
    "execution": {
     "iopub.execute_input": "2024-01-19T05:13:06.074681Z",
     "iopub.status.busy": "2024-01-19T05:13:06.073660Z",
     "iopub.status.idle": "2024-01-19T05:13:06.375900Z",
     "shell.execute_reply": "2024-01-19T05:13:06.374408Z"
    },
    "papermill": {
     "duration": 0.315995,
     "end_time": "2024-01-19T05:13:06.379263",
     "exception": false,
     "start_time": "2024-01-19T05:13:06.063268",
     "status": "completed"
    },
    "tags": []
   },
   "outputs": [
    {
     "data": {
      "text/plain": [
       "<BarContainer object of 5 artists>"
      ]
     },
     "execution_count": 7,
     "metadata": {},
     "output_type": "execute_result"
    },
    {
     "data": {
      "image/png": "[encoded data removed]",
      "text/plain": [
       "<Figure size 640x480 with 1 Axes>"
      ]
     },
     "metadata": {},
     "output_type": "display_data"
    }
   ],
   "source": [
    "plt.bar(train_df[\"Days Indoors\"].unique(), train_df[\"Days Indoors\"].value_counts())"
   ]
  },
  {
   "cell_type": "code",
   "execution_count": 8,
   "id": "0d2db669",
   "metadata": {
    "execution": {
     "iopub.execute_input": "2024-01-19T05:13:06.400472Z",
     "iopub.status.busy": "2024-01-19T05:13:06.399580Z",
     "iopub.status.idle": "2024-01-19T05:13:06.639070Z",
     "shell.execute_reply": "2024-01-19T05:13:06.637722Z"
    },
    "papermill": {
     "duration": 0.254841,
     "end_time": "2024-01-19T05:13:06.643325",
     "exception": false,
     "start_time": "2024-01-19T05:13:06.388484",
     "status": "completed"
    },
    "tags": []
   },
   "outputs": [
    {
     "data": {
      "text/plain": [
       "<BarContainer object of 3 artists>"
      ]
     },
     "execution_count": 8,
     "metadata": {},
     "output_type": "execute_result"
    },
    {
     "data": {
      "image/png": "[encoded data removed]",
      "text/plain": [
       "<Figure size 640x480 with 1 Axes>"
      ]
     },
     "metadata": {},
     "output_type": "display_data"
    }
   ],
   "source": [
    "plt.bar(train_df[\"Growing Stress\"].unique(), train_df[\"Growing Stress\"].value_counts())"
   ]
  },
  {
   "cell_type": "code",
   "execution_count": 9,
   "id": "346058ee",
   "metadata": {
    "execution": {
     "iopub.execute_input": "2024-01-19T05:13:06.676717Z",
     "iopub.status.busy": "2024-01-19T05:13:06.675652Z",
     "iopub.status.idle": "2024-01-19T05:13:07.015023Z",
     "shell.execute_reply": "2024-01-19T05:13:07.013562Z"
    },
    "papermill": {
     "duration": 0.35342,
     "end_time": "2024-01-19T05:13:07.017996",
     "exception": false,
     "start_time": "2024-01-19T05:13:06.664576",
     "status": "completed"
    },
    "tags": []
   },
   "outputs": [
    {
     "data": {
      "text/plain": [
       "<BarContainer object of 3 artists>"
      ]
     },
     "execution_count": 9,
     "metadata": {},
     "output_type": "execute_result"
    },
    {
     "data": {
      "image/png": "[encoded data removed]",
      "text/plain": [
       "<Figure size 640x480 with 1 Axes>"
      ]
     },
     "metadata": {},
     "output_type": "display_data"
    }
   ],
   "source": [
    "plt.bar(train_df[\"Quarantine Frustrations\"].unique(), train_df[\"Quarantine Frustrations\"].value_counts())"
   ]
  },
  {
   "cell_type": "code",
   "execution_count": 10,
   "id": "541d811e",
   "metadata": {
    "execution": {
     "iopub.execute_input": "2024-01-19T05:13:07.044866Z",
     "iopub.status.busy": "2024-01-19T05:13:07.043338Z",
     "iopub.status.idle": "2024-01-19T05:13:07.360408Z",
     "shell.execute_reply": "2024-01-19T05:13:07.359111Z"
    },
    "papermill": {
     "duration": 0.336997,
     "end_time": "2024-01-19T05:13:07.364804",
     "exception": false,
     "start_time": "2024-01-19T05:13:07.027807",
     "status": "completed"
    },
    "tags": []
   },
   "outputs": [
    {
     "data": {
      "text/plain": [
       "<BarContainer object of 3 artists>"
      ]
     },
     "execution_count": 10,
     "metadata": {},
     "output_type": "execute_result"
    },
    {
     "data": {
      "image/png": "[encoded data removed]",
      "text/plain": [
       "<Figure size 640x480 with 1 Axes>"
      ]
     },
     "metadata": {},
     "output_type": "display_data"
    }
   ],
   "source": [
    "plt.bar(train_df[\"Changes Habits\"].unique(), train_df[\"Changes Habits\"].value_counts())"
   ]
  },
  {
   "cell_type": "code",
   "execution_count": 11,
   "id": "37e345ae",
   "metadata": {
    "execution": {
     "iopub.execute_input": "2024-01-19T05:13:07.394417Z",
     "iopub.status.busy": "2024-01-19T05:13:07.393908Z",
     "iopub.status.idle": "2024-01-19T05:13:07.687064Z",
     "shell.execute_reply": "2024-01-19T05:13:07.686010Z"
    },
    "papermill": {
     "duration": 0.309662,
     "end_time": "2024-01-19T05:13:07.690740",
     "exception": false,
     "start_time": "2024-01-19T05:13:07.381078",
     "status": "completed"
    },
    "tags": []
   },
   "outputs": [
    {
     "data": {
      "text/plain": [
       "<BarContainer object of 3 artists>"
      ]
     },
     "execution_count": 11,
     "metadata": {},
     "output_type": "execute_result"
    },
    {
     "data": {
      "image/png": "[encoded data removed]",
      "text/plain": [
       "<Figure size 640x480 with 1 Axes>"
      ]
     },
     "metadata": {},
     "output_type": "display_data"
    }
   ],
   "source": [
    "plt.bar(train_df[\"Mental Health History\"].unique(), train_df[\"Mental Health History\"].value_counts())"
   ]
  },
  {
   "cell_type": "markdown",
   "id": "0f5c02a5",
   "metadata": {
    "papermill": {
     "duration": 0.011279,
     "end_time": "2024-01-19T05:13:07.718547",
     "exception": false,
     "start_time": "2024-01-19T05:13:07.707268",
     "status": "completed"
    },
    "tags": []
   },
   "source": [
    "# Prepare The Data!"
   ]
  },
  {
   "cell_type": "code",
   "execution_count": 12,
   "id": "7ca24334",
   "metadata": {
    "execution": {
     "iopub.execute_input": "2024-01-19T05:13:07.743334Z",
     "iopub.status.busy": "2024-01-19T05:13:07.742322Z",
     "iopub.status.idle": "2024-01-19T05:13:07.795154Z",
     "shell.execute_reply": "2024-01-19T05:13:07.793861Z"
    },
    "papermill": {
     "duration": 0.068915,
     "end_time": "2024-01-19T05:13:07.798403",
     "exception": false,
     "start_time": "2024-01-19T05:13:07.729488",
     "status": "completed"
    },
    "tags": []
   },
   "outputs": [
    {
     "data": {
      "text/html": [
       "<div>\n",
       "<style scoped>\n",
       "    .dataframe tbody tr th:only-of-type {\n",
       "        vertical-align: middle;\n",
       "    }\n",
       "\n",
       "    .dataframe tbody tr th {\n",
       "        vertical-align: top;\n",
       "    }\n",
       "\n",
       "    .dataframe thead th {\n",
       "        text-align: right;\n",
       "    }\n",
       "</style>\n",
       "<table border=\"1\" class=\"dataframe\">\n",
       "  <thead>\n",
       "    <tr style=\"text-align: right;\">\n",
       "      <th></th>\n",
       "      <th>Age</th>\n",
       "      <th>Sex</th>\n",
       "      <th>Occupation</th>\n",
       "      <th>Days Indoors</th>\n",
       "      <th>Growing Stress</th>\n",
       "      <th>Quarantine Frustrations</th>\n",
       "      <th>Changes Habits</th>\n",
       "      <th>Mental Health History</th>\n",
       "      <th>Weight Change</th>\n",
       "      <th>Mood Swings</th>\n",
       "      <th>Coping Struggles</th>\n",
       "      <th>Work Interest</th>\n",
       "      <th>Social Weakness</th>\n",
       "    </tr>\n",
       "  </thead>\n",
       "  <tbody>\n",
       "    <tr>\n",
       "      <th>0</th>\n",
       "      <td>20-25</td>\n",
       "      <td>Female</td>\n",
       "      <td>Corporate</td>\n",
       "      <td>1-14 days</td>\n",
       "      <td>1.0</td>\n",
       "      <td>1.0</td>\n",
       "      <td>0.0</td>\n",
       "      <td>1.0</td>\n",
       "      <td>1.0</td>\n",
       "      <td>0.5</td>\n",
       "      <td>0.0</td>\n",
       "      <td>0.0</td>\n",
       "      <td>1.0</td>\n",
       "    </tr>\n",
       "    <tr>\n",
       "      <th>1</th>\n",
       "      <td>30-Above</td>\n",
       "      <td>Male</td>\n",
       "      <td>Others</td>\n",
       "      <td>31-60 days</td>\n",
       "      <td>1.0</td>\n",
       "      <td>1.0</td>\n",
       "      <td>0.5</td>\n",
       "      <td>0.0</td>\n",
       "      <td>0.0</td>\n",
       "      <td>1.0</td>\n",
       "      <td>0.0</td>\n",
       "      <td>0.0</td>\n",
       "      <td>1.0</td>\n",
       "    </tr>\n",
       "    <tr>\n",
       "      <th>2</th>\n",
       "      <td>30-Above</td>\n",
       "      <td>Female</td>\n",
       "      <td>Student</td>\n",
       "      <td>Go out Every day</td>\n",
       "      <td>0.0</td>\n",
       "      <td>0.0</td>\n",
       "      <td>1.0</td>\n",
       "      <td>0.0</td>\n",
       "      <td>0.0</td>\n",
       "      <td>0.5</td>\n",
       "      <td>1.0</td>\n",
       "      <td>0.5</td>\n",
       "      <td>0.0</td>\n",
       "    </tr>\n",
       "    <tr>\n",
       "      <th>3</th>\n",
       "      <td>25-30</td>\n",
       "      <td>Male</td>\n",
       "      <td>Others</td>\n",
       "      <td>1-14 days</td>\n",
       "      <td>1.0</td>\n",
       "      <td>0.0</td>\n",
       "      <td>0.5</td>\n",
       "      <td>0.0</td>\n",
       "      <td>0.5</td>\n",
       "      <td>0.5</td>\n",
       "      <td>0.0</td>\n",
       "      <td>0.5</td>\n",
       "      <td>1.0</td>\n",
       "    </tr>\n",
       "    <tr>\n",
       "      <th>4</th>\n",
       "      <td>16-20</td>\n",
       "      <td>Female</td>\n",
       "      <td>Student</td>\n",
       "      <td>More than 2 months</td>\n",
       "      <td>1.0</td>\n",
       "      <td>1.0</td>\n",
       "      <td>1.0</td>\n",
       "      <td>0.0</td>\n",
       "      <td>1.0</td>\n",
       "      <td>0.5</td>\n",
       "      <td>1.0</td>\n",
       "      <td>0.5</td>\n",
       "      <td>0.0</td>\n",
       "    </tr>\n",
       "    <tr>\n",
       "      <th>...</th>\n",
       "      <td>...</td>\n",
       "      <td>...</td>\n",
       "      <td>...</td>\n",
       "      <td>...</td>\n",
       "      <td>...</td>\n",
       "      <td>...</td>\n",
       "      <td>...</td>\n",
       "      <td>...</td>\n",
       "      <td>...</td>\n",
       "      <td>...</td>\n",
       "      <td>...</td>\n",
       "      <td>...</td>\n",
       "      <td>...</td>\n",
       "    </tr>\n",
       "    <tr>\n",
       "      <th>794</th>\n",
       "      <td>30-Above</td>\n",
       "      <td>Female</td>\n",
       "      <td>Housewife</td>\n",
       "      <td>Go out Every day</td>\n",
       "      <td>1.0</td>\n",
       "      <td>0.5</td>\n",
       "      <td>0.0</td>\n",
       "      <td>0.0</td>\n",
       "      <td>0.0</td>\n",
       "      <td>0.0</td>\n",
       "      <td>0.0</td>\n",
       "      <td>0.0</td>\n",
       "      <td>1.0</td>\n",
       "    </tr>\n",
       "    <tr>\n",
       "      <th>795</th>\n",
       "      <td>25-30</td>\n",
       "      <td>Male</td>\n",
       "      <td>Student</td>\n",
       "      <td>Go out Every day</td>\n",
       "      <td>0.5</td>\n",
       "      <td>1.0</td>\n",
       "      <td>0.5</td>\n",
       "      <td>0.0</td>\n",
       "      <td>0.5</td>\n",
       "      <td>1.0</td>\n",
       "      <td>1.0</td>\n",
       "      <td>0.5</td>\n",
       "      <td>0.0</td>\n",
       "    </tr>\n",
       "    <tr>\n",
       "      <th>796</th>\n",
       "      <td>20-25</td>\n",
       "      <td>Male</td>\n",
       "      <td>Others</td>\n",
       "      <td>Go out Every day</td>\n",
       "      <td>1.0</td>\n",
       "      <td>0.0</td>\n",
       "      <td>1.0</td>\n",
       "      <td>0.0</td>\n",
       "      <td>0.5</td>\n",
       "      <td>0.5</td>\n",
       "      <td>1.0</td>\n",
       "      <td>0.0</td>\n",
       "      <td>0.5</td>\n",
       "    </tr>\n",
       "    <tr>\n",
       "      <th>797</th>\n",
       "      <td>30-Above</td>\n",
       "      <td>Female</td>\n",
       "      <td>Housewife</td>\n",
       "      <td>1-14 days</td>\n",
       "      <td>1.0</td>\n",
       "      <td>1.0</td>\n",
       "      <td>0.0</td>\n",
       "      <td>1.0</td>\n",
       "      <td>0.5</td>\n",
       "      <td>1.0</td>\n",
       "      <td>0.0</td>\n",
       "      <td>1.0</td>\n",
       "      <td>1.0</td>\n",
       "    </tr>\n",
       "    <tr>\n",
       "      <th>798</th>\n",
       "      <td>30-Above</td>\n",
       "      <td>Male</td>\n",
       "      <td>Corporate</td>\n",
       "      <td>15-30 days</td>\n",
       "      <td>0.0</td>\n",
       "      <td>0.5</td>\n",
       "      <td>0.0</td>\n",
       "      <td>0.5</td>\n",
       "      <td>1.0</td>\n",
       "      <td>0.5</td>\n",
       "      <td>0.0</td>\n",
       "      <td>0.5</td>\n",
       "      <td>0.0</td>\n",
       "    </tr>\n",
       "  </tbody>\n",
       "</table>\n",
       "<p>799 rows × 13 columns</p>\n",
       "</div>"
      ],
      "text/plain": [
       "          Age     Sex Occupation        Days Indoors  Growing Stress  \\\n",
       "0       20-25  Female  Corporate           1-14 days             1.0   \n",
       "1    30-Above    Male     Others          31-60 days             1.0   \n",
       "2    30-Above  Female    Student    Go out Every day             0.0   \n",
       "3       25-30    Male     Others           1-14 days             1.0   \n",
       "4       16-20  Female    Student  More than 2 months             1.0   \n",
       "..        ...     ...        ...                 ...             ...   \n",
       "794  30-Above  Female  Housewife    Go out Every day             1.0   \n",
       "795     25-30    Male    Student    Go out Every day             0.5   \n",
       "796     20-25    Male     Others    Go out Every day             1.0   \n",
       "797  30-Above  Female  Housewife           1-14 days             1.0   \n",
       "798  30-Above    Male  Corporate          15-30 days             0.0   \n",
       "\n",
       "     Quarantine Frustrations  Changes Habits  Mental Health History  \\\n",
       "0                        1.0             0.0                    1.0   \n",
       "1                        1.0             0.5                    0.0   \n",
       "2                        0.0             1.0                    0.0   \n",
       "3                        0.0             0.5                    0.0   \n",
       "4                        1.0             1.0                    0.0   \n",
       "..                       ...             ...                    ...   \n",
       "794                      0.5             0.0                    0.0   \n",
       "795                      1.0             0.5                    0.0   \n",
       "796                      0.0             1.0                    0.0   \n",
       "797                      1.0             0.0                    1.0   \n",
       "798                      0.5             0.0                    0.5   \n",
       "\n",
       "     Weight Change  Mood Swings  Coping Struggles  Work Interest  \\\n",
       "0              1.0          0.5               0.0            0.0   \n",
       "1              0.0          1.0               0.0            0.0   \n",
       "2              0.0          0.5               1.0            0.5   \n",
       "3              0.5          0.5               0.0            0.5   \n",
       "4              1.0          0.5               1.0            0.5   \n",
       "..             ...          ...               ...            ...   \n",
       "794            0.0          0.0               0.0            0.0   \n",
       "795            0.5          1.0               1.0            0.5   \n",
       "796            0.5          0.5               1.0            0.0   \n",
       "797            0.5          1.0               0.0            1.0   \n",
       "798            1.0          0.5               0.0            0.5   \n",
       "\n",
       "     Social Weakness  \n",
       "0                1.0  \n",
       "1                1.0  \n",
       "2                0.0  \n",
       "3                1.0  \n",
       "4                0.0  \n",
       "..               ...  \n",
       "794              1.0  \n",
       "795              0.0  \n",
       "796              0.5  \n",
       "797              1.0  \n",
       "798              0.0  \n",
       "\n",
       "[799 rows x 13 columns]"
      ]
     },
     "execution_count": 12,
     "metadata": {},
     "output_type": "execute_result"
    }
   ],
   "source": [
    "new = train_df\n",
    "conv = {\"Yes\" : 1, \"Maybe\" : 0.5, \"No\" : 0}\n",
    "conv2 = {\"Low\" : 0, \"Medium\" : 0.5, \"High\" : 1}\n",
    "new[\"Growing Stress\"] = new[\"Growing Stress\"].map(conv)\n",
    "new[\"Quarantine Frustrations\"] = new[\"Quarantine Frustrations\"].map(conv)\n",
    "new[\"Changes Habits\"] = new[\"Changes Habits\"].map(conv)\n",
    "new[\"Mental Health History\"] = new[\"Mental Health History\"].map(conv)\n",
    "new[\"Weight Change\"] = new[\"Weight Change\"].map(conv)\n",
    "new[\"Mood Swings\"] = new[\"Mood Swings\"].map(conv2)\n",
    "new[\"Coping Struggles\"] = new[\"Coping Struggles\"].map(conv)\n",
    "new[\"Work Interest\"] = new[\"Work Interest\"].map(conv)\n",
    "new[\"Social Weakness\"] = new[\"Social Weakness\"].map(conv)\n",
    "new"
   ]
  },
  {
   "cell_type": "code",
   "execution_count": null,
   "id": "696ec136",
   "metadata": {
    "papermill": {
     "duration": 0.01139,
     "end_time": "2024-01-19T05:13:07.821411",
     "exception": false,
     "start_time": "2024-01-19T05:13:07.810021",
     "status": "completed"
    },
    "tags": []
   },
   "outputs": [],
   "source": []
  }
 ],
 "metadata": {
  "kaggle": {
   "accelerator": "none",
   "dataSources": [
    {
     "datasetId": 4310966,
     "sourceId": 7411571,
     "sourceType": "datasetVersion"
    }
   ],
   "dockerImageVersionId": 30635,
   "isGpuEnabled": false,
   "isInternetEnabled": true,
   "language": "python",
   "sourceType": "notebook"
  },
  "kernelspec": {
   "display_name": "Python 3",
   "language": "python",
   "name": "python3"
  },
  "language_info": {
   "codemirror_mode": {
    "name": "ipython",
    "version": 3
   },
   "file_extension": ".py",
   "mimetype": "text/x-python",
   "name": "python",
   "nbconvert_exporter": "python",
   "pygments_lexer": "ipython3",
   "version": "3.10.12"
  },
  "papermill": {
   "default_parameters": {},
   "duration": 27.705059,
   "end_time": "2024-01-19T05:13:10.768947",
   "environment_variables": {},
   "exception": null,
   "input_path": "__notebook__.ipynb",
   "output_path": "__notebook__.ipynb",
   "parameters": {},
   "start_time": "2024-01-19T05:12:43.063888",
   "version": "2.4.0"
  }
 },
 "nbformat": 4,
 "nbformat_minor": 5
}
